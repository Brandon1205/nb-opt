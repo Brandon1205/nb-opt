{
 "cells": [
  {
   "cell_type": "markdown",
   "metadata": {},
   "source": [
    "# Dieta Balanceada\n",
    "\n",
    "## Robinson Castaño \n",
    "### Código: 161002804 \n",
    "\n",
    "## David Ramos\n",
    "### Código: 161002949"
   ]
  },
  {
   "cell_type": "markdown",
   "metadata": {},
   "source": [
    "Encontrar la dieta balanceada que cumpla con todos los requisitos nutricionales a partir de los siguientes alimentos: **Arandanos, Pan de arroz, Palitroques, Compota y Galletas Wafer** optimizando el costo."
   ]
  },
  {
   "cell_type": "markdown",
   "metadata": {},
   "source": [
    "### Tabla nutricional\n",
    "Esta tabla contiene el valor nutricional por porción de cada alimento.\n"
   ]
  },
  {
   "cell_type": "markdown",
   "metadata": {},
   "source": [
    "   | Valor Nutricional| Arandanos |Compota|Palitroque|Pan de arroz|Waffer|Necesario|\n",
    "   |:----------------:|:---------:|:-----:|:--------:|:----------:|:-----:|:-|\n",
    "   |*Vitamina A *|2%|0%|0%|0%|0%|$$\\geq100\\%$$|\n",
    "   |*Vitamina C*|15%|50%|0%|0%|0%|$$\\geq100\\%$$|\n",
    "   |*Calcio*|0%|9%|0%|10%|0%|$$\\geq100\\%$$|\n",
    "   |*Hierro*|0%|0%|4%|0%|4%|$$\\geq100\\%$$|\n",
    "   |*Proteína*|2%|0%|4%|12%|2%|$$\\geq100\\%$$|\n",
    "   |*Porción/empaque*|6.6|1|8.3|2.6|3|\n",
    "   |**Valor Comercial** | \\$6200 |\\$1250|\\$1800|\\$1950|\\$1050|\n",
    "   Tabla 1"
   ]
  },
  {
   "cell_type": "markdown",
   "metadata": {},
   "source": [
    "Tabla valor nutricional por empaque.\n",
    "\n",
    "   | Valor Nutricional| Arandanos |Compota|Palitroque|Pan de arroz|Waffer|Necesario|\n",
    "   |:----------------:|:---------:|:-----:|:--------:|:----------:|:-----:|:-|\n",
    "   |*Vitamina A *|13.2%|0%|0%|0%|0%|$$\\geq100\\%$$|\n",
    "   |*Vitamina C*|99%|50%|0%|0%|0%|$$\\geq100\\%$$|\n",
    "   |*Calcio*|0%|9%|0%|26%|0%|$$\\geq100\\%$$|\n",
    "   |*Hierro*|0%|0%|33.2%|0%|12%|$$\\geq100\\%$$|\n",
    "   |*Proteína*|13.2%|0%|33.2%|31.2%|6%|$$\\geq100\\%$$|\n",
    "   |**Valor Comercial** | \\$6200 |\\$1250|\\$1800|\\$1950|\\$1050|\n",
    "   Tabla 2\n"
   ]
  },
  {
   "cell_type": "markdown",
   "metadata": {
    "collapsed": true
   },
   "source": [
    "Cumpliendo con el valor de cada nutriente: \n",
    "\n",
    "**Vitamina A:** El único alimento de la tabla que aporta vitamina A son los Arandanos. Para poder cumplir con: $ Vitamina A \\geq100\\%$ \n",
    "\n",
    "Se deben comprar:\n",
    "\n",
    "$f(x) : Cantidad\\ de\\ paquete$ \n",
    "\n",
    "$f(x)=\\frac{\\% mínimo\\ necesario}{\\% por\\ empaque}$  \n",
    "\n",
    "$f(x)=\\frac {100}{13.2}$\n",
    "\n",
    "$f(x)=7.57$\n",
    "\n",
    "$f(x) \\approx 8$ Empaques\n",
    "\n",
    "Segun la tabla 2 los 8 empaques de arandanos aportan $\\bf Vitamina\\ A =$ $8x13.2\\%=105.6\\% $ \n",
    "$\\bf Vitamina\\ C =$ $8x99\\%=792\\%$\n",
    "$\\bf Calcio =$ $ 8x0\\%=0\\%$\n",
    "$\\bf Hierro =$ $ 8x0\\%=0\\%$\n",
    "$\\bf Proteína =$ $8x13.2\\%=105.6\\% $ \n",
    "\n",
    "**Calcio:** El alimento con mayor aporte de calcio de la tabla aporta calcio son los Arandanos. Para poder cumplir con: $Calcio \\geq100\\%$ "
   ]
  },
  {
   "cell_type": "markdown",
   "metadata": {},
   "source": []
  }
 ],
 "metadata": {
  "kernelspec": {
   "display_name": "Python 3",
   "language": "python",
   "name": "python3"
  },
  "language_info": {
   "codemirror_mode": {
    "name": "ipython",
    "version": 3
   },
   "file_extension": ".py",
   "mimetype": "text/x-python",
   "name": "python",
   "nbconvert_exporter": "python",
   "pygments_lexer": "ipython3",
   "version": "3.6.3"
  }
 },
 "nbformat": 4,
 "nbformat_minor": 2
}
