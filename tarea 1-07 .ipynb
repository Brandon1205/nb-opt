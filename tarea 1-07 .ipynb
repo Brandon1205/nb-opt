{
 "cells": [
  {
   "cell_type": "markdown",
   "metadata": {},
   "source": [
    "$$ x $$"
   ]
  },
  {
   "cell_type": "markdown",
   "metadata": {},
   "source": [
    "$ Angie$ $ Gordillo$  $ y    $  $Ricardo $ $Becerra$"
   ]
  },
  {
   "cell_type": "markdown",
   "metadata": {},
   "source": [
    "$$ASIGNACION DE VARIABLES$$\n",
    "\n",
    "$ comp : cantidad $ $de$ $ gramos $\n",
    "\n",
    "$ Ros : $ $cantidad de gramos$\n",
    "\n",
    "$ Ga : $ $cantidad$ $de$ $gramos$\n",
    "\n",
    "$Ara: $ $cantdad$ $de$ $gramos$\n",
    "\n",
    "$Pa : $ cantidad$ $de$ $gramos$"
   ]
  },
  {
   "cell_type": "markdown",
   "metadata": {},
   "source": [
    "$ calorias $ El ser humano tiene estandarizado 2000  porque son"
   ]
  },
  {
   "cell_type": "markdown",
   "metadata": {},
   "source": [
    " $$RESTRINCIONES$$\n",
    "$ 80 com $ + $140 Ros$ + $120Ga$ + $110Ara$ + $60 Pa$ > = 2000\n",
    "\n",
    "$          $   $450Ros$ + $10Ara$+$10Pa$ >= 2000"
   ]
  },
  {
   "cell_type": "code",
   "execution_count": null,
   "metadata": {},
   "outputs": [],
   "source": []
  }
 ],
 "metadata": {
  "kernelspec": {
   "display_name": "Python 3",
   "language": "python",
   "name": "python3"
  },
  "language_info": {
   "codemirror_mode": {
    "name": "ipython",
    "version": 3
   },
   "file_extension": ".py",
   "mimetype": "text/x-python",
   "name": "python",
   "nbconvert_exporter": "python",
   "pygments_lexer": "ipython3",
   "version": "3.6.3"
  }
 },
 "nbformat": 4,
 "nbformat_minor": 2
}
