---
# OPTIMIZACION DE DIETA DE 2000 KCAL
---

### JORGE GARAY RIVERA 161003417
### CESAR ANDRES GALINDO 161003313

|    || Compota || Arandanos || Pan de arroz || Alchiras || Wafer || Und |
|:-------:||:--------:||:------------:||:-------:|||:-----:||:---:||:---:| 
| Calorias || 80 || 110 || 140 || 60 || 120 || kcal| 
| Cal grasas || 0 || 10 || 45 || 10 || 50 || kcal|
|Grasa total || 0 || 1000 || 5000 || 1000 || 6000 || mg|
|Colesterol || 0 || 0 || 5 || 0 || 0 || mg|
|Sodio || 20 || 0 || 320 || 130 || 10 || mg|
|Carbohidratos || 20000 || 23000 || 17000 || 10000 || 16000 || mg|
|Proteina || 1000 || 1000 || 6000 || 2000 || 1000 || mg
|Vitamina A || 0 || 2 || 0 || 0 || 0 || Porcentaje |
|Vitamina C || 50 || 15 || 0 || 0 || 0 || Porcentaje|
|Calcio || 9 || 0 || 10 || 0 || 0 || Porcentaje|
|Hierro || 0 || 0 || 0 || 4 || 4 || Porcentaje|
|Porciones || 1 || 3.3 || 2.6 || 8.3 || 3.3 || P.paquete|
|Precio || 1250 || 3100 || 1950 || 1800 || 1050 || Pesos|
   ###### Tabla 1. Información Nutricional
   

## Variables de Decisión:

**Xi**: Porciones de alimentos a consumir durante el dia de alimento **i**. con **i**=1, Compota,|......|, **i**=5, Wafer.

## Función Objetivo (Minimizar)

1250X1+3100X2+1950X3+1800X4+1050X5

## Restricciones:

**Mínimo de Calorías**: 80X1+110X2+140X3+60X4+120X5 >= 2000

**Mínimo de Calorías grasa**: 10X2+45X3+10X4+50X5 >= 50

**Mínimo de Colesterol**: 5X4 >= 300

**Mínimo de Sodio**: 20X1+320x3+130x4+10x5 >= 2300

**Mínimo de Carbohidratos**: 20X1+23x2+17x3+10x4+16x5 >= 200

**Mínimo de Proteina**: 1000X1+1000x2+6000x3+2000x4+1000x5 >= 100

**Mínimo de Vitamina A**: 2x2 >= 0,7

**Mínimo de Vitamina C**: 50x1+15x2 >= 90

**Minimo de Calcio**: 9X1+10X3 >= 1000

**Mínimo de Hierro**: 4x4+4x5 >= 8

**No Negativos**: Xi>=0 Para todo **i**.
