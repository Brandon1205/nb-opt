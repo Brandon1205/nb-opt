\documentclass[a4paper,openright,10pt]{report}
\usepackage[spanish,es-tabla]{babel}
\usepackage[utf8]{inputenc} 
\usepackage{multirow} % para las tablas
\usepackage[spanish,es-tabla]{babel}

\documentclass[a4paper,openright,12pt]{report}
\usepackage[spanish]{babel}
\usepackage[utf8]{inputenc}
\usepackage{amssymb, amsmath, amsbsy} % simbolitos
\usepackage{upgreek} % para poner letras griegas sin cursiva
\usepackage{cancel} % para tachar
\usepackage{mathdots} % para el comando \iddots
\usepackage{mathrsfs} % para formato de letra
\usepackage{stackrel} % para el comando \stackbin

\begin{document}

\begin{flushleft}
\textbf{Cesar Andrés Galindo Villalobos - 161003313}\\
\textbf{Jorge Garay Rivera - 161003417}\\
\end{flushleft}

\begin{table}[htbp]
\begin{center}
\begin{tabular}{|l|l|l|l|l|l|l|}
\hline
 & Compota & Arandanos & Pan de arroz & Alchiras & Wafer & Und\\
\hline \hline
Calorias & 80 & 110 & 140 & 60 & 120 & kcal\\ \hline
Cal grasas & 0 & 10 & 45 & 10 & 50 & kcal\\ \hline
Grasa total & 0 & 1000 & 5000 & 1000 & 6000 & mg\\ \hline
Colesterol & 0 & 0 & 5 & 0 & 0 & mg\\ \hline
Sodio & 20 & 0 & 320 & 130 & 10 & mg\\ \hline
Carbohidratos & 20000 & 23000 & 17000 & 10000 & 16000 & mg\\ \hline
Proteina & 1000 & 1000 & 6000 & 2000 & 1000 & mg \\ \hline
Vitamina A & 0 & 2 & 0 & 0 & 0 & Porcentaje \\ \hline
Vitamina C & 50 & 15 & 0 & 0 & 0 & Porcentaje\\ \hline
Calcio & 9 & 0 & 10 & 0 & 0 & Porcentaje\\ \hline
Hierro & 0 & 0 & 0 & 4 & 4 & Porcentaje\\ \hline
Porciones & 1 & 3.3 & 2.6 & 8.3 & 3.3 & P.paquete\\ \hline
Precio & 1250 & 3100 & 1950 & 1800 & 1050 & Pesos\\ \hline
\end{tabular}
\caption{Información nutricional.}
\label{tabla:sencilla}
\end{center}
\end{table}

\begin{flushleft}
\textbf{Variables de Decisión:\\
Xi: Porciones de alimentos a consumir durante el día del alimento i. Con i=1, Compota,…. i=5, Wafer).}\\
\end{flushleft}

\begin{flushleft}
\textbf{Función Objetivo (Minimizar)}\\
\end{flushleft}

\begin{equation}\label{eq:ej}
1250X1+3100X2+1950X3+1800X4+1050X5
\end{equation}

\begin{flushleft}
\textbf{Restricciones:}\\
\end{flushleft}

\begin{flushleft}
\textbf{Mínimo de Calorías               (2)
Mínimo de calorías grasa     (3)
Mínimo de colesterol           (4)
Mínimo de sodio                   (5)
Mínimo de carbohidratos    (6)
Mínimo de proteína              (7)
Mínimo de vitamina A          (8)
Mínimo de vitamina C          (9)
Mínimo de Calcio                  (10)
Mínimo de hierro                  (11)
No Negativos                         (12)
}\\
\end{flushleft}

\begin{equation}\label{eq:ej}
80X1+110X2+140X3+60X4+120X5 >= 2000
\end{equation}

\begin{equation}\label{eq:ej}
10X2+45X3+10X4+50X5 >= 50
\end{equation}

\begin{equation}\label{eq:ej}
5X4 >= 300
\end{equation}

\begin{equation}\label{eq:ej}
20X1+320x3+130x4+10x5 >= 2300
\end{equation}

\begin{equation}\label{eq:ej}
20X1+23x2+17x3+10x4+16x5 >= 200
\end{equation}

\begin{equation}\label{eq:ej}
1000X1+1000x2+6000x3+2000x4+1000x5 >= 100
\end{equation}

\begin{equation}\label{eq:ej}
2x2 >= 0,7
\end{equation}

\begin{equation}\label{eq:ej}
50x1+15x2 >= 90
\end{equation}

\begin{equation}\label{eq:ej}
9X1+10X3 >= 1000
\end{equation}

\begin{equation}\label{eq:ej}
4x4+4x5 >= 8
\end{equation}

\begin{equation}\label{eq:ej}
Xi>=0 Para todo i.
\end{equation}

\end{document}
