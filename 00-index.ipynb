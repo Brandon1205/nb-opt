{
 "cells": [
  {
   "cell_type": "markdown",
   "metadata": {},
   "source": [
    "# Optimización y Procesos Estocásticos"
   ]
  },
  {
   "cell_type": "markdown",
   "metadata": {},
   "source": [
    "## Contenido"
   ]
  },
  {
   "cell_type": "markdown",
   "metadata": {},
   "source": [
    "1. [Modelos](01-modelos.ipynb)\n",
    "2. [Programas Lineales](02-programas-lineales.ipynb)\n",
    "3. [Redes Neuronales Artificiales](03-rna.ipynb)\n",
    "4. [Algoritmos Genéticos](04-algoritmos-geneticos.ipynb)\n",
    "5. [Cadena de Markov](05-markov.ipynb)\n",
    "6. [Camino Aleatorio](06-camino-aleatorio.ipynb)\n",
    "7. [Movimiento browniano](07-movimiento-browniano.ipynb)"
   ]
  }
 ],
 "metadata": {
  "kernelspec": {
   "display_name": "Python 2",
   "language": "python",
   "name": "python2"
  },
  "language_info": {
   "codemirror_mode": {
    "name": "ipython",
    "version": 2
   },
   "file_extension": ".py",
   "mimetype": "text/x-python",
   "name": "python",
   "nbconvert_exporter": "python",
   "pygments_lexer": "ipython2",
   "version": "2.7.10"
  }
 },
 "nbformat": 4,
 "nbformat_minor": 2
}
